{
  "nbformat": 4,
  "nbformat_minor": 0,
  "metadata": {
    "colab": {
      "name": "Amazon Digital Music Recommendation.ipynb",
      "version": "0.3.2",
      "provenance": [],
      "collapsed_sections": [],
      "include_colab_link": true
    },
    "kernelspec": {
      "name": "python3",
      "display_name": "Python 3"
    }
  },
  "cells": [
    {
      "cell_type": "markdown",
      "metadata": {
        "id": "view-in-github",
        "colab_type": "text"
      },
      "source": [
        "<a href=\"https://colab.research.google.com/github/helenpiepie/hl.github.io/blob/master/Amazon_Digital_Music_Recommendation.ipynb\" target=\"_parent\"><img src=\"https://colab.research.google.com/assets/colab-badge.svg\" alt=\"Open In Colab\"/></a>"
      ]
    },
    {
      "metadata": {
        "id": "QVeI1j4ccCRj",
        "colab_type": "text"
      },
      "cell_type": "markdown",
      "source": [
        "# Collaborative Filtering Recommendation: Amazon Digital Music"
      ]
    },
    {
      "metadata": {
        "id": "aoqKxhN4b_Ac",
        "colab_type": "text"
      },
      "cell_type": "markdown",
      "source": [
        "## Ingest"
      ]
    },
    {
      "metadata": {
        "id": "gORP0Aw_g6k5",
        "colab_type": "code",
        "outputId": "b2f836f8-ec91-4d2a-dbf7-dd4aa3b1eaf8",
        "colab": {
          "base_uri": "https://localhost:8080/",
          "height": 51
        }
      },
      "cell_type": "code",
      "source": [
        "!pip install -q scikit-surprise"
      ],
      "execution_count": 0,
      "outputs": [
        {
          "output_type": "stream",
          "text": [
            "\u001b[K    100% |████████████████████████████████| 3.3MB 5.2MB/s \n",
            "\u001b[?25h  Building wheel for scikit-surprise (setup.py) ... \u001b[?25ldone\n",
            "\u001b[?25h"
          ],
          "name": "stdout"
        }
      ]
    },
    {
      "metadata": {
        "id": "aKkyy1_QGn7a",
        "colab_type": "code",
        "colab": {}
      },
      "cell_type": "code",
      "source": [
        "import pandas as pd\n",
        "import matplotlib.pyplot as plt\n",
        "from matplotlib.pyplot import show\n",
        "import seaborn as sns\n",
        "\n",
        "import io\n",
        "from surprise import SVD, KNNBasic\n",
        "from surprise import Dataset\n",
        "from surprise import evaluate, Reader\n",
        "from surprise.model_selection import cross_validate"
      ],
      "execution_count": 0,
      "outputs": []
    },
    {
      "metadata": {
        "id": "ROMcKn9gFWAT",
        "colab_type": "text"
      },
      "cell_type": "markdown",
      "source": [
        "Data Source: http://jmcauley.ucsd.edu/data/amazon/links.html"
      ]
    },
    {
      "metadata": {
        "id": "tmm7479hcIyr",
        "colab_type": "code",
        "colab": {}
      },
      "cell_type": "code",
      "source": [
        "df = pd.read_csv(\"https://raw.githubusercontent.com/helenpiepie/practice1/master/amazon_product.csv?token=ApqbMYZkQOeAZTNUcnXZNqaUexGxJZ8zks5cbFZ3wA%3D%3D\")"
      ],
      "execution_count": 0,
      "outputs": []
    },
    {
      "metadata": {
        "id": "6m63YrCMdUXW",
        "colab_type": "code",
        "outputId": "9d1cb89c-c967-45cb-d5fc-691e81aab245",
        "colab": {
          "base_uri": "https://localhost:8080/",
          "height": 204
        }
      },
      "cell_type": "code",
      "source": [
        "df.head()"
      ],
      "execution_count": 0,
      "outputs": [
        {
          "output_type": "execute_result",
          "data": {
            "text/html": [
              "<div>\n",
              "<style scoped>\n",
              "    .dataframe tbody tr th:only-of-type {\n",
              "        vertical-align: middle;\n",
              "    }\n",
              "\n",
              "    .dataframe tbody tr th {\n",
              "        vertical-align: top;\n",
              "    }\n",
              "\n",
              "    .dataframe thead th {\n",
              "        text-align: right;\n",
              "    }\n",
              "</style>\n",
              "<table border=\"1\" class=\"dataframe\">\n",
              "  <thead>\n",
              "    <tr style=\"text-align: right;\">\n",
              "      <th></th>\n",
              "      <th>Unnamed: 0</th>\n",
              "      <th>reviewID</th>\n",
              "      <th>productID</th>\n",
              "      <th>rating</th>\n",
              "      <th>unixReviewTime</th>\n",
              "    </tr>\n",
              "  </thead>\n",
              "  <tbody>\n",
              "    <tr>\n",
              "      <th>0</th>\n",
              "      <td>1</td>\n",
              "      <td>A13HBXGVUGUT2R</td>\n",
              "      <td>5555991584</td>\n",
              "      <td>5</td>\n",
              "      <td>1373673600</td>\n",
              "    </tr>\n",
              "    <tr>\n",
              "      <th>1</th>\n",
              "      <td>2</td>\n",
              "      <td>A13QZGUU1PIJ4W</td>\n",
              "      <td>5555991584</td>\n",
              "      <td>5</td>\n",
              "      <td>1358208000</td>\n",
              "    </tr>\n",
              "    <tr>\n",
              "      <th>2</th>\n",
              "      <td>3</td>\n",
              "      <td>A14BTJRH9VNLJJ</td>\n",
              "      <td>5555991584</td>\n",
              "      <td>5</td>\n",
              "      <td>1375142400</td>\n",
              "    </tr>\n",
              "    <tr>\n",
              "      <th>3</th>\n",
              "      <td>4</td>\n",
              "      <td>A16KCH578FG4B4</td>\n",
              "      <td>5555991584</td>\n",
              "      <td>5</td>\n",
              "      <td>1044921600</td>\n",
              "    </tr>\n",
              "    <tr>\n",
              "      <th>4</th>\n",
              "      <td>5</td>\n",
              "      <td>A1878O39ZKG24F</td>\n",
              "      <td>5555991584</td>\n",
              "      <td>3</td>\n",
              "      <td>1371168000</td>\n",
              "    </tr>\n",
              "  </tbody>\n",
              "</table>\n",
              "</div>"
            ],
            "text/plain": [
              "   Unnamed: 0        reviewID   productID  rating  unixReviewTime\n",
              "0           1  A13HBXGVUGUT2R  5555991584       5      1373673600\n",
              "1           2  A13QZGUU1PIJ4W  5555991584       5      1358208000\n",
              "2           3  A14BTJRH9VNLJJ  5555991584       5      1375142400\n",
              "3           4  A16KCH578FG4B4  5555991584       5      1044921600\n",
              "4           5  A1878O39ZKG24F  5555991584       3      1371168000"
            ]
          },
          "metadata": {
            "tags": []
          },
          "execution_count": 35
        }
      ]
    },
    {
      "metadata": {
        "id": "gSLoMaLUdajF",
        "colab_type": "code",
        "outputId": "7df699aa-d355-478e-f9f7-7d4755ea56fd",
        "colab": {
          "base_uri": "https://localhost:8080/",
          "height": 204
        }
      },
      "cell_type": "code",
      "source": [
        "df.drop([\"unixReviewTime\", \"Unnamed: 0\"], axis=1, inplace = True)\n",
        "df.head()"
      ],
      "execution_count": 0,
      "outputs": [
        {
          "output_type": "execute_result",
          "data": {
            "text/html": [
              "<div>\n",
              "<style scoped>\n",
              "    .dataframe tbody tr th:only-of-type {\n",
              "        vertical-align: middle;\n",
              "    }\n",
              "\n",
              "    .dataframe tbody tr th {\n",
              "        vertical-align: top;\n",
              "    }\n",
              "\n",
              "    .dataframe thead th {\n",
              "        text-align: right;\n",
              "    }\n",
              "</style>\n",
              "<table border=\"1\" class=\"dataframe\">\n",
              "  <thead>\n",
              "    <tr style=\"text-align: right;\">\n",
              "      <th></th>\n",
              "      <th>reviewID</th>\n",
              "      <th>productID</th>\n",
              "      <th>rating</th>\n",
              "    </tr>\n",
              "  </thead>\n",
              "  <tbody>\n",
              "    <tr>\n",
              "      <th>0</th>\n",
              "      <td>A13HBXGVUGUT2R</td>\n",
              "      <td>5555991584</td>\n",
              "      <td>5</td>\n",
              "    </tr>\n",
              "    <tr>\n",
              "      <th>1</th>\n",
              "      <td>A13QZGUU1PIJ4W</td>\n",
              "      <td>5555991584</td>\n",
              "      <td>5</td>\n",
              "    </tr>\n",
              "    <tr>\n",
              "      <th>2</th>\n",
              "      <td>A14BTJRH9VNLJJ</td>\n",
              "      <td>5555991584</td>\n",
              "      <td>5</td>\n",
              "    </tr>\n",
              "    <tr>\n",
              "      <th>3</th>\n",
              "      <td>A16KCH578FG4B4</td>\n",
              "      <td>5555991584</td>\n",
              "      <td>5</td>\n",
              "    </tr>\n",
              "    <tr>\n",
              "      <th>4</th>\n",
              "      <td>A1878O39ZKG24F</td>\n",
              "      <td>5555991584</td>\n",
              "      <td>3</td>\n",
              "    </tr>\n",
              "  </tbody>\n",
              "</table>\n",
              "</div>"
            ],
            "text/plain": [
              "         reviewID   productID  rating\n",
              "0  A13HBXGVUGUT2R  5555991584       5\n",
              "1  A13QZGUU1PIJ4W  5555991584       5\n",
              "2  A14BTJRH9VNLJJ  5555991584       5\n",
              "3  A16KCH578FG4B4  5555991584       5\n",
              "4  A1878O39ZKG24F  5555991584       3"
            ]
          },
          "metadata": {
            "tags": []
          },
          "execution_count": 36
        }
      ]
    },
    {
      "metadata": {
        "id": "2ic3cOjbdpVI",
        "colab_type": "text"
      },
      "cell_type": "markdown",
      "source": [
        "## EDA"
      ]
    },
    {
      "metadata": {
        "id": "p8IT1lQ7drpU",
        "colab_type": "code",
        "outputId": "0314cf30-b507-4fad-8a9f-106a13b9bc0d",
        "colab": {
          "base_uri": "https://localhost:8080/",
          "height": 153
        }
      },
      "cell_type": "code",
      "source": [
        "df.info()"
      ],
      "execution_count": 0,
      "outputs": [
        {
          "output_type": "stream",
          "text": [
            "<class 'pandas.core.frame.DataFrame'>\n",
            "RangeIndex: 230392 entries, 0 to 230391\n",
            "Data columns (total 3 columns):\n",
            "reviewID     230392 non-null object\n",
            "productID    230392 non-null object\n",
            "rating       230392 non-null int64\n",
            "dtypes: int64(1), object(2)\n",
            "memory usage: 5.3+ MB\n"
          ],
          "name": "stdout"
        }
      ]
    },
    {
      "metadata": {
        "id": "5D-d44Es-hST",
        "colab_type": "text"
      },
      "cell_type": "markdown",
      "source": [
        "### Rating Distribution"
      ]
    },
    {
      "metadata": {
        "id": "s_qJ5uO9gCXd",
        "colab_type": "code",
        "outputId": "bac4d8a3-758f-4529-e20d-21c0f4c8aecc",
        "colab": {
          "base_uri": "https://localhost:8080/",
          "height": 415
        }
      },
      "cell_type": "code",
      "source": [
        "sns.set(style=\"darkgrid\")\n",
        "total = float(len(df)) # one person per row \n",
        "\n",
        "ax = sns.countplot(x=\"rating\", data=df)\n",
        "for p in ax.patches:\n",
        "    height = p.get_height()\n",
        "    ax.text(p.get_x()+p.get_width()/2.,\n",
        "            height + 3,\n",
        "            '{:1.2f}'.format(height/total),\n",
        "            ha=\"center\") \n",
        "show()\n"
      ],
      "execution_count": 0,
      "outputs": [
        {
          "output_type": "stream",
          "text": [
            "/usr/local/lib/python3.6/dist-packages/seaborn/categorical.py:1428: FutureWarning: remove_na is deprecated and is a private function. Do not use.\n",
            "  stat_data = remove_na(group_data)\n"
          ],
          "name": "stderr"
        },
        {
          "output_type": "display_data",
          "data": {
            "image/png": "[encoded data removed]",
            "text/plain": [
              "<Figure size 576x396 with 1 Axes>"
            ]
          },
          "metadata": {
            "tags": []
          }
        }
      ]
    },
    {
      "metadata": {
        "id": "QDT_YR1--pTh",
        "colab_type": "text"
      },
      "cell_type": "markdown",
      "source": [
        "### Rating by Product"
      ]
    },
    {
      "metadata": {
        "id": "PapaNSZjinRl",
        "colab_type": "code",
        "outputId": "31dd9cac-8cae-4585-9ed6-9921f98a31c7",
        "colab": {
          "base_uri": "https://localhost:8080/",
          "height": 221
        }
      },
      "cell_type": "code",
      "source": [
        "df[['productID', 'rating']].groupby([\"productID\"])['rating'].size().nlargest(10)"
      ],
      "execution_count": 0,
      "outputs": [
        {
          "output_type": "execute_result",
          "data": {
            "text/plain": [
              "productID\n",
              "B0000AGWEC    1823\n",
              "B000BGR18W    1386\n",
              "B00008H2LB    1325\n",
              "B00005YW4H    1282\n",
              "B0007NFL18    1047\n",
              "B000084T18     977\n",
              "B00004T9UF     914\n",
              "B00006690F     884\n",
              "B00004XOWM     797\n",
              "B000021YQV     778\n",
              "Name: rating, dtype: int64"
            ]
          },
          "metadata": {
            "tags": []
          },
          "execution_count": 39
        }
      ]
    },
    {
      "metadata": {
        "id": "HPXcNvl2cX9G",
        "colab_type": "code",
        "outputId": "f780d60d-33c7-40a4-d5d3-3cb598185008",
        "colab": {
          "base_uri": "https://localhost:8080/",
          "height": 874
        }
      },
      "cell_type": "code",
      "source": [
        "product_df = df[['productID', 'rating']].groupby([\"productID\"])['rating'].size().clip(upper = 300).reset_index(name=\"counts\")\n",
        "plt.hist(product_df[\"counts\"], bins = 100)"
      ],
      "execution_count": 0,
      "outputs": [
        {
          "output_type": "execute_result",
          "data": {
            "text/plain": [
              "(array([1.663e+03, 1.052e+03, 7.090e+02, 4.720e+02, 3.850e+02, 2.890e+02,\n",
              "        2.370e+02, 2.020e+02, 1.930e+02, 1.670e+02, 1.290e+02, 1.230e+02,\n",
              "        1.010e+02, 8.100e+01, 8.300e+01, 6.200e+01, 6.600e+01, 5.200e+01,\n",
              "        5.000e+01, 4.800e+01, 4.900e+01, 5.100e+01, 4.500e+01, 2.400e+01,\n",
              "        3.200e+01, 3.100e+01, 3.600e+01, 2.900e+01, 2.400e+01, 2.100e+01,\n",
              "        1.700e+01, 2.200e+01, 1.700e+01, 1.900e+01, 1.300e+01, 1.500e+01,\n",
              "        1.000e+01, 1.000e+01, 1.700e+01, 1.500e+01, 8.000e+00, 1.000e+01,\n",
              "        9.000e+00, 1.300e+01, 1.600e+01, 1.300e+01, 1.100e+01, 7.000e+00,\n",
              "        6.000e+00, 7.000e+00, 5.000e+00, 5.000e+00, 7.000e+00, 9.000e+00,\n",
              "        1.000e+01, 7.000e+00, 3.000e+00, 4.000e+00, 6.000e+00, 6.000e+00,\n",
              "        2.000e+00, 4.000e+00, 3.000e+00, 4.000e+00, 7.000e+00, 3.000e+00,\n",
              "        7.000e+00, 5.000e+00, 1.000e+00, 1.000e+00, 2.000e+00, 8.000e+00,\n",
              "        7.000e+00, 8.000e+00, 5.000e+00, 0.000e+00, 3.000e+00, 4.000e+00,\n",
              "        6.000e+00, 1.000e+00, 4.000e+00, 3.000e+00, 6.000e+00, 2.000e+00,\n",
              "        3.000e+00, 1.000e+00, 1.000e+00, 1.000e+00, 2.000e+00, 4.000e+00,\n",
              "        2.000e+00, 4.000e+00, 1.000e+00, 3.000e+00, 3.000e+00, 6.000e+00,\n",
              "        4.000e+00, 2.000e+00, 2.000e+00, 1.040e+02]),\n",
              " array([  1.  ,   3.99,   6.98,   9.97,  12.96,  15.95,  18.94,  21.93,\n",
              "         24.92,  27.91,  30.9 ,  33.89,  36.88,  39.87,  42.86,  45.85,\n",
              "         48.84,  51.83,  54.82,  57.81,  60.8 ,  63.79,  66.78,  69.77,\n",
              "         72.76,  75.75,  78.74,  81.73,  84.72,  87.71,  90.7 ,  93.69,\n",
              "         96.68,  99.67, 102.66, 105.65, 108.64, 111.63, 114.62, 117.61,\n",
              "        120.6 , 123.59, 126.58, 129.57, 132.56, 135.55, 138.54, 141.53,\n",
              "        144.52, 147.51, 150.5 , 153.49, 156.48, 159.47, 162.46, 165.45,\n",
              "        168.44, 171.43, 174.42, 177.41, 180.4 , 183.39, 186.38, 189.37,\n",
              "        192.36, 195.35, 198.34, 201.33, 204.32, 207.31, 210.3 , 213.29,\n",
              "        216.28, 219.27, 222.26, 225.25, 228.24, 231.23, 234.22, 237.21,\n",
              "        240.2 , 243.19, 246.18, 249.17, 252.16, 255.15, 258.14, 261.13,\n",
              "        264.12, 267.11, 270.1 , 273.09, 276.08, 279.07, 282.06, 285.05,\n",
              "        288.04, 291.03, 294.02, 297.01, 300.  ]),\n",
              " <a list of 100 Patch objects>)"
            ]
          },
          "metadata": {
            "tags": []
          },
          "execution_count": 40
        },
        {
          "output_type": "display_data",
          "data": {
            "image/png": "[encoded data removed]",
            "text/plain": [
              "<Figure size 576x396 with 1 Axes>"
            ]
          },
          "metadata": {
            "tags": []
          }
        }
      ]
    },
    {
      "metadata": {
        "id": "R-Aillv5-52s",
        "colab_type": "text"
      },
      "cell_type": "markdown",
      "source": [
        "### Rating by User"
      ]
    },
    {
      "metadata": {
        "id": "c1PWjzRHinWZ",
        "colab_type": "code",
        "outputId": "ad4c5e6f-c001-41a0-b5e2-f43cd6c3a0c8",
        "colab": {
          "base_uri": "https://localhost:8080/",
          "height": 221
        }
      },
      "cell_type": "code",
      "source": [
        "df[['reviewID', 'rating']].groupby([\"reviewID\"])['rating'].size().nlargest(10)"
      ],
      "execution_count": 0,
      "outputs": [
        {
          "output_type": "execute_result",
          "data": {
            "text/plain": [
              "reviewID\n",
              "A9Q28YTLYREO7     645\n",
              "A3HU0B9XUEVHIM    392\n",
              "A8IFUOL8S9BZC     310\n",
              "A3C6ZCBUNXUT7V    278\n",
              "A3KJ6JAZPH382D    229\n",
              "A1GN8UJIZLCA59    227\n",
              "A1J5KCZC8CMW9I    186\n",
              "A3VZVYWCTGIEV0    176\n",
              "A26NLSTT75FMJM    170\n",
              "A3W0POMI33YQXQ    169\n",
              "Name: rating, dtype: int64"
            ]
          },
          "metadata": {
            "tags": []
          },
          "execution_count": 41
        }
      ]
    },
    {
      "metadata": {
        "id": "Ts3TkwA0g6iU",
        "colab_type": "code",
        "outputId": "cb0bb529-7ff3-4f80-cb58-6c5cde112699",
        "colab": {
          "base_uri": "https://localhost:8080/",
          "height": 483
        }
      },
      "cell_type": "code",
      "source": [
        "review_df = df[['reviewID', 'rating']].groupby([\"reviewID\"])['rating'].size().clip(upper = 15).reset_index(name=\"counts\")\n",
        "plt.hist(review_df[\"counts\"], bins = 15)"
      ],
      "execution_count": 0,
      "outputs": [
        {
          "output_type": "execute_result",
          "data": {
            "text/plain": [
              "(array([1.20273e+05, 1.41830e+04, 4.56500e+03, 2.20900e+03, 1.23700e+03,\n",
              "        7.49000e+02, 5.36000e+02, 3.95000e+02, 2.87000e+02, 2.29000e+02,\n",
              "        1.84000e+02, 1.30000e+02, 1.38000e+02, 9.50000e+01, 8.85000e+02]),\n",
              " array([ 1.        ,  1.93333333,  2.86666667,  3.8       ,  4.73333333,\n",
              "         5.66666667,  6.6       ,  7.53333333,  8.46666667,  9.4       ,\n",
              "        10.33333333, 11.26666667, 12.2       , 13.13333333, 14.06666667,\n",
              "        15.        ]),\n",
              " <a list of 15 Patch objects>)"
            ]
          },
          "metadata": {
            "tags": []
          },
          "execution_count": 42
        },
        {
          "output_type": "display_data",
          "data": {
            "image/png": "[encoded data removed]",
            "text/plain": [
              "<Figure size 576x396 with 1 Axes>"
            ]
          },
          "metadata": {
            "tags": []
          }
        }
      ]
    },
    {
      "metadata": {
        "id": "JWJ5JE6thOdT",
        "colab_type": "text"
      },
      "cell_type": "markdown",
      "source": [
        "## Modeling"
      ]
    },
    {
      "metadata": {
        "id": "loKqp4yT_O7a",
        "colab_type": "text"
      },
      "cell_type": "markdown",
      "source": [
        "### Load Dataset to Surprise"
      ]
    },
    {
      "metadata": {
        "id": "vZlv8BGGmqrE",
        "colab_type": "code",
        "colab": {}
      },
      "cell_type": "code",
      "source": [
        "reader = Reader(rating_scale=(0, 5))\n",
        "data = Dataset.load_from_df(df[['reviewID', 'productID', 'rating']], reader)"
      ],
      "execution_count": 0,
      "outputs": []
    },
    {
      "metadata": {
        "id": "3CjbOh-worIE",
        "colab_type": "code",
        "outputId": "2e7dc8c8-55c1-4c15-b55b-568b0cf52aa9",
        "colab": {
          "base_uri": "https://localhost:8080/",
          "height": 34
        }
      },
      "cell_type": "code",
      "source": [
        "data"
      ],
      "execution_count": 0,
      "outputs": [
        {
          "output_type": "execute_result",
          "data": {
            "text/plain": [
              "<surprise.dataset.DatasetAutoFolds at 0x7f46c0295e10>"
            ]
          },
          "metadata": {
            "tags": []
          },
          "execution_count": 21
        }
      ]
    },
    {
      "metadata": {
        "id": "Yh8g1dIClaem",
        "colab_type": "code",
        "colab": {}
      },
      "cell_type": "code",
      "source": [
        "trainset = data.build_full_trainset()"
      ],
      "execution_count": 0,
      "outputs": []
    },
    {
      "metadata": {
        "id": "eoCe2tbl_az-",
        "colab_type": "text"
      },
      "cell_type": "markdown",
      "source": [
        "### Train SVD Model - Predict User's Rating of Product"
      ]
    },
    {
      "metadata": {
        "id": "I2RDUXujg6ok",
        "colab_type": "code",
        "outputId": "5a81809d-43c3-4271-d6ce-d9d6b9eaad9b",
        "colab": {
          "base_uri": "https://localhost:8080/",
          "height": 768
        }
      },
      "cell_type": "code",
      "source": [
        "algo = SVD()\n",
        "evaluate(algo, data, measures=['RMSE', 'MAE'])"
      ],
      "execution_count": 0,
      "outputs": [
        {
          "output_type": "stream",
          "text": [
            "/usr/local/lib/python3.6/dist-packages/surprise/evaluate.py:66: UserWarning: The evaluate() method is deprecated. Please use model_selection.cross_validate() instead.\n",
            "  'model_selection.cross_validate() instead.', UserWarning)\n",
            "/usr/local/lib/python3.6/dist-packages/surprise/dataset.py:193: UserWarning: Using data.split() or using load_from_folds() without using a CV iterator is now deprecated. \n",
            "  UserWarning)\n"
          ],
          "name": "stderr"
        },
        {
          "output_type": "stream",
          "text": [
            "Evaluating RMSE, MAE of algorithm SVD.\n",
            "\n",
            "------------\n",
            "Fold 1\n",
            "RMSE: 0.9842\n",
            "MAE:  0.7144\n",
            "------------\n",
            "Fold 2\n",
            "RMSE: 0.9895\n",
            "MAE:  0.7154\n",
            "------------\n",
            "Fold 3\n",
            "RMSE: 0.9965\n",
            "MAE:  0.7190\n",
            "------------\n",
            "Fold 4\n",
            "RMSE: 0.9929\n",
            "MAE:  0.7210\n",
            "------------\n",
            "Fold 5\n",
            "RMSE: 1.0032\n",
            "MAE:  0.7240\n",
            "------------\n",
            "------------\n",
            "Mean RMSE: 0.9933\n",
            "Mean MAE : 0.7188\n",
            "------------\n",
            "------------\n"
          ],
          "name": "stdout"
        },
        {
          "output_type": "execute_result",
          "data": {
            "text/plain": [
              "CaseInsensitiveDefaultDict(list,\n",
              "                           {'mae': [0.7144285945659898,\n",
              "                             0.7154416015818499,\n",
              "                             0.7189827442073338,\n",
              "                             0.7210470872308603,\n",
              "                             0.7239650687241148],\n",
              "                            'rmse': [0.9842116977472333,\n",
              "                             0.9894722866292864,\n",
              "                             0.9965466589172934,\n",
              "                             0.9929070703054447,\n",
              "                             1.0031643473257283]})"
            ]
          },
          "metadata": {
            "tags": []
          },
          "execution_count": 23
        }
      ]
    },
    {
      "metadata": {
        "id": "gNy1a9Oj37c_",
        "colab_type": "code",
        "outputId": "b8d8c295-b06d-44d5-8f3f-029e70e3d04b",
        "colab": {
          "base_uri": "https://localhost:8080/",
          "height": 88
        }
      },
      "cell_type": "code",
      "source": [
        "algo.train(trainset)"
      ],
      "execution_count": 0,
      "outputs": [
        {
          "output_type": "stream",
          "text": [
            "/usr/local/lib/python3.6/dist-packages/surprise/prediction_algorithms/algo_base.py:51: UserWarning: train() is deprecated. Use fit() instead\n",
            "  warnings.warn('train() is deprecated. Use fit() instead', UserWarning)\n"
          ],
          "name": "stderr"
        },
        {
          "output_type": "execute_result",
          "data": {
            "text/plain": [
              "<surprise.prediction_algorithms.matrix_factorization.SVD at 0x7f46c024be48>"
            ]
          },
          "metadata": {
            "tags": []
          },
          "execution_count": 24
        }
      ]
    },
    {
      "metadata": {
        "id": "0ry3IaEltE96",
        "colab_type": "text"
      },
      "cell_type": "markdown",
      "source": [
        "Afterwards to predict a rating we give the reviewID, productID and the actual rating as follows"
      ]
    },
    {
      "metadata": {
        "id": "SH8PfuNhxGa_",
        "colab_type": "code",
        "outputId": "3274cd6b-caf0-4844-c96d-537f3d4d3fa6",
        "colab": {
          "base_uri": "https://localhost:8080/",
          "height": 54
        }
      },
      "cell_type": "code",
      "source": [
        "# we can now query for specific predicions\n",
        "uid = \"A13HBXGVUGUT2R\"  # raw user id\n",
        "pid = \"5555991584\"  # raw product id\n",
        "\n",
        "# get a prediction for specific users and items.\n",
        "pred = algo.predict(uid, pid, r_ui=5, verbose=True)\n"
      ],
      "execution_count": 0,
      "outputs": [
        {
          "output_type": "stream",
          "text": [
            "user: A13HBXGVUGUT2R item: 5555991584 r_ui = 5.00   est = 4.69   {'was_impossible': False}\n"
          ],
          "name": "stdout"
        }
      ]
    },
    {
      "metadata": {
        "id": "B0KlJHnR5SJ5",
        "colab_type": "text"
      },
      "cell_type": "markdown",
      "source": [
        "### Train KNN Basic Model - Recommend Similar Product "
      ]
    },
    {
      "metadata": {
        "id": "9FvmceG4zw_p",
        "colab_type": "code",
        "colab": {}
      },
      "cell_type": "code",
      "source": [
        "sim_options = {'name': 'cosine',\n",
        "               'user_based': False  # compute  similarities between items\n",
        "               }\n",
        "sim_algo = KNNBasic(sim_options=sim_options)"
      ],
      "execution_count": 0,
      "outputs": []
    },
    {
      "metadata": {
        "id": "nmOXLmTGxGiU",
        "colab_type": "code",
        "outputId": "2b7ed85f-267c-4986-d669-ce0696d09119",
        "colab": {
          "base_uri": "https://localhost:8080/",
          "height": 68
        }
      },
      "cell_type": "code",
      "source": [
        "sim_algo.fit(trainset)"
      ],
      "execution_count": 0,
      "outputs": [
        {
          "output_type": "stream",
          "text": [
            "Computing the cosine similarity matrix...\n",
            "Done computing similarity matrix.\n"
          ],
          "name": "stdout"
        },
        {
          "output_type": "execute_result",
          "data": {
            "text/plain": [
              "<surprise.prediction_algorithms.knns.KNNBasic at 0x7f46c0361630>"
            ]
          },
          "metadata": {
            "tags": []
          },
          "execution_count": 27
        }
      ]
    },
    {
      "metadata": {
        "id": "qsH2iTncAG18",
        "colab_type": "text"
      },
      "cell_type": "markdown",
      "source": [
        "Recommend 10 similar products with product \"5555991584\""
      ]
    },
    {
      "metadata": {
        "id": "oEwFVHzyg6nY",
        "colab_type": "code",
        "outputId": "62d1a219-3d29-43c3-d07d-1ba8030be14a",
        "colab": {
          "base_uri": "https://localhost:8080/",
          "height": 187
        }
      },
      "cell_type": "code",
      "source": [
        "pid = \"5555991584\"\n",
        "inner_id = sim_algo.trainset.to_inner_iid(pid)\n",
        "product_neighbor = sim_algo.get_neighbors(inner_id, k=10)\n",
        "product_neighbor = (sim_algo.trainset.to_raw_iid(inner)\n",
        "                       for inner in product_neighbor)\n",
        "for product in product_neighbor:\n",
        "  print(product)"
      ],
      "execution_count": 0,
      "outputs": [
        {
          "output_type": "stream",
          "text": [
            "B00000016T\n",
            "B0000004VW\n",
            "B0000004XH\n",
            "B00000053X\n",
            "B00000064E\n",
            "B000000ECX\n",
            "B000000HRS\n",
            "B000000OME\n",
            "B000000OPC\n",
            "B000000OQL\n"
          ],
          "name": "stdout"
        }
      ]
    },
    {
      "metadata": {
        "id": "sIfsIkbp5W5p",
        "colab_type": "text"
      },
      "cell_type": "markdown",
      "source": [
        "## Conclusion"
      ]
    },
    {
      "metadata": {
        "id": "TNdzTG5nASkS",
        "colab_type": "text"
      },
      "cell_type": "markdown",
      "source": [
        "\n",
        "\n",
        "\n",
        "\n",
        "*   The idea behind collaborative filtering is to recommend new items based on the similarity of users. Surprise is a handy and powerful Python library for simple recommendation systems to perform item-item collaborative filtering. Besides cosine similarity, we can also use Pearson or MSD as similarity measures. \n",
        "*   I would recommend using collaborative filtering to identify similar users and learn about their favorites. Then we can provide a recommendation list of new digital music to users. By tracking whether users accept the recommendation and listen to the music, we have more information of users’ likes and dislikes. Understanding users and making right recommendations are important to maintain customers.\n",
        "\n"
      ]
    }
  ]
}